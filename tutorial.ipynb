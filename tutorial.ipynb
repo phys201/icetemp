{
 "cells": [
  {
   "cell_type": "markdown",
   "id": "sitting-frank",
   "metadata": {},
   "source": [
    "## Ice Temperature (icetemp) Package Tutorial"
   ]
  },
  {
   "cell_type": "code",
   "execution_count": 1,
   "id": "treated-paintball",
   "metadata": {},
   "outputs": [],
   "source": [
    "# Standard imports\n",
    "%matplotlib inline\n",
    "import numpy as np\n",
    "import matplotlib.pyplot as plt\n",
    "import pandas as pd\n",
    "\n",
    "# Imports from ice temperature estimation package\n",
    "import icetemp\n",
    "import icetemp.data_io as io\n",
    "import icetemp.model as m"
   ]
  },
  {
   "cell_type": "markdown",
   "id": "colored-waters",
   "metadata": {},
   "source": [
    "This package is intended to infer the change in temperature from measurements of temperature ($^\\circ$C) and depth (m) off of thermistor provided by the AMANDA and IceCube collaborations. Our baseline hypothesis determines a quadratic relationship between the ice temperature and depth, but we will also consider a linear dependence. \n",
    "\n",
    "We have contructed a generative model to analyze the data which involves uniform priors for each term of the polinomials studied and a normal likelihood to relate the Gaussian uncertainties in one dimension. These uncertaintes or noise sources are considered directly related to the thermistor technical information. \n",
    "___\n",
    "In the case of the straight line fit, we have $ T = f(d) = m \\cdot d + b$ where d is the depth and T is the temperature. For each of the true T values with Gaussian uncertainties, we get that the frequency distribution $p(T_i|d_i,\\sigma_{Ti},m,b)$ for $T_i$ is $$ p(T_i|d_i,\\sigma_{Ti},m,b) = \\frac{1}{\\sqrt{2\\pi \\sigma_T^2}} \\exp \\Big(\\frac{-(T_i - md_i - b)^2}{2\\sigma_T^2}\\Big).$$\n",
    "\n",
    "We have no prior information about the dependence of temperature over depth, and for that reason we shall considera \"Flat\" prior for our parameters. Regarding the intecept we could assume it will be in the expected temperature, at ground level, in the Antarctic, which ranges from -20°C (summer) to -60°C (winter).  We can then define our statistical model as:\n",
    "$$ m \\sim \\text{Uniform}( m^l, m^u) \\rightarrow m \\sim \\text{Uniform}(-\\infty ,\\infty)$$\n",
    "\n",
    "$$ b \\sim \\text{Uniform}( b^l, b^u) \\rightarrow b \\sim \\text{Uniform}(-\\infty ,\\infty)$$ where we define $\\mu_i = m \\cdot d_i + b$\n",
    "\n",
    "$$ T_i \\sim \\text{Normal}(\\mu_i,\\sigma_\\text{T})$$\n",
    "\n",
    "The likelihood of the parameter is given by: \n",
    "$$ \\mathcal{L} \\propto \\prod_i \\frac{1}{\\sqrt{2\\pi \\sigma_T^2}} \\exp \\Big(\\frac{-(y_i - mx_i - b)^2}{2\\sigma_T^2}\\Big) $$\n",
    "___\n",
    "In the case of the quadratic line fit, we have $ T = f(d) = q \\cdot d^2 + m \\cdot d + b$ where d is the depth and T is the temperature. For each of the true T values with Gaussian uncertainties, we get that the frequency distribution $p(T_i|d_i,\\sigma_{Ti},m,b)$ for $T_i$ is $$ p(T_i|d_i,\\sigma_{Ti},m,b) = \\frac{1}{\\sqrt{2\\pi \\sigma_T^2}} \\exp \\Big(\\frac{-(T_i - q d_i^2 - md_i - b)^2}{2\\sigma_T^2}\\Big).$$\n",
    "\n",
    "We have no prior information about the dependence of temperature over depth, and for that reason we shall considera \"Flat\" prior for our parameters. Regarding the intecept we could assume it will be in the expected temperature, at ground level, in the Antarctic, which ranges from -20°C (summer) to -60°C (winter).  We can then define our statistical model as:\n",
    "$$ q \\sim \\text{Uniform}( q^l, q^u) \\rightarrow q \\sim \\text{Uniform}(-\\infty , \\infty)$$\n",
    "\n",
    "$$ m \\sim \\text{Uniform}( m^l, m^u) \\rightarrow m \\sim \\text{Uniform}(-\\infty ,\\infty)$$\n",
    "\n",
    "$$ b \\sim \\text{Uniform}( b^l, b^u) \\rightarrow b \\sim \\text{Uniform}(-\\infty , \\infty)$$ \n",
    "\n",
    "where we define $\\mu_i = q \\cdot d_i^2 + m \\cdot d_i + b$\n",
    "\n",
    "$$ T_i \\sim \\text{Normal}(\\mu_i,\\sigma_\\text{T})$$\n",
    "\n",
    "The likelihood of the parameter is given by: \n",
    "$$ \\mathcal{L} \\propto \\prod_i \\frac{1}{\\sqrt{2\\pi \\sigma_T^2}} \\exp \\Big(\\frac{-(y_i - q x_i^2 - mx_i - b)^2}{2\\sigma_T^2}\\Big) $$\n",
    "___\n",
    "___"
   ]
  },
  {
   "cell_type": "markdown",
   "id": "internal-thought",
   "metadata": {},
   "source": [
    "#### Let's take a look at our data!"
   ]
  },
  {
   "cell_type": "code",
   "execution_count": 2,
   "id": "personal-startup",
   "metadata": {},
   "outputs": [
    {
     "name": "stdout",
     "output_type": "stream",
     "text": [
      "    Temperature    Depth  data_year  temp_errors  depth_errors\n",
      "0        -28.76 -2078.18       2007          0.1             2\n",
      "1        -25.09 -2214.35       2007          0.1             2\n",
      "2        -20.93 -2350.52       2007          0.1             2\n",
      "3        -26.51 -2161.09       2007          0.1             2\n",
      "4        -22.42 -2297.25       2007          0.1             2\n",
      "5        -17.89 -2433.42       2007          0.1             2\n",
      "6        -25.79 -2195.40       2007          0.1             2\n",
      "7        -21.55 -2331.57       2007          0.1             2\n",
      "8        -18.23 -2433.69       2007          0.1             2\n",
      "9        -26.26 -2171.54       2007          0.1             2\n",
      "10       -17.69 -2443.87       2007          0.1             2\n"
     ]
    }
   ],
   "source": [
    "# load some (real) data\n",
    "ex_data = io.load_ice_data(\"icecube_temp.2007.txt\", data_year=2007,temp_errors=0.1, depth_errors=2)\n",
    "print(ex_data)"
   ]
  },
  {
   "cell_type": "markdown",
   "id": "cultural-prescription",
   "metadata": {},
   "source": [
    "Using our object (Pandas DataFrame) we can calculate the likelihood function of our statistical model. Below, the likelihood is calculated for some linear and quadratic test data. The details of how this test data was generated are provided in the `test_data` directory. "
   ]
  },
  {
   "cell_type": "code",
   "execution_count": 3,
   "id": "negative-residence",
   "metadata": {},
   "outputs": [
    {
     "name": "stdout",
     "output_type": "stream",
     "text": [
      "The likelihood value for the linear model with the test data is 5350803797.71\n",
      "The likelihood value for the quadrartc model with the test data is 21583804.54\n"
     ]
    },
    {
     "data": {
      "image/png": "[encoded data removed]",
      "text/plain": [
       "<Figure size 432x288 with 1 Axes>"
      ]
     },
     "metadata": {
      "needs_background": "light"
     },
     "output_type": "display_data"
    },
    {
     "data": {
      "image/png": "[encoded data removed]",
      "text/plain": [
       "<Figure size 432x288 with 1 Axes>"
      ]
     },
     "metadata": {
      "needs_background": "light"
     },
     "output_type": "display_data"
    }
   ],
   "source": [
    "# defining model parameters for linear and quadratic fit (used to generate test data)\n",
    "a0_lin, a1_lin = -6.35e1, 1.66e-2\n",
    "a0_quad, a1_quad, a2_quad = -4.66e1, -7.47e-3, 6.18e-6\n",
    "\n",
    "# linear test data\n",
    "test_linear = io.load_ice_data(\"test_data_linear.txt\", data_year=0, temp_errors=0.1, depth_errors=2, data_dir='test_data')\n",
    "test_linear.plot(x='Depth', y='Temperature', kind='scatter', yerr=0.1, color='blue')\n",
    "x = test_linear['Depth'].values\n",
    "print('The likelihood value for the linear model with the test data is {:.2f}'.format(m.calc_linear_likelihood(test_linear, a1_lin, a0_lin)))\n",
    "x.sort()\n",
    "plt.plot(x, a1_lin*x + a0_lin, color='blue', linestyle='dashed')\n",
    "plt.title(\"Linear test data\")\n",
    "\n",
    "# quadratic test data\n",
    "test_quad = io.load_ice_data(\"test_data_quadratic.txt\", data_year=0, temp_errors=0.1, depth_errors=2, data_dir='test_data')\n",
    "test_quad.plot(x='Depth', y='Temperature', kind='scatter', yerr=0.1,color='orange')\n",
    "plt.plot(x, a2_quad*x**2 + a1_quad*x + a0_quad, linestyle='dashed')\n",
    "plt.title(\"Quadratic test data\")\n",
    "print('The likelihood value for the quadrartc model with the test data is {:.2f}'.format(m.calc_quad_likelihood(test_quad, a2_quad, a1_quad, a0_quad)))"
   ]
  },
  {
   "cell_type": "markdown",
   "id": "trained-pixel",
   "metadata": {},
   "source": [
    "## Doing some inference on the test data\n",
    "\n",
    "The function `fit_quad()` in `model.py` fits the data to a quadratic function and extracts the relevant parameters and covariance matrix. Let's do some inference on the quadratic test data and see if our parameters agree to a reasonable extent. In this function, only the errors on the temperature are considered. "
   ]
  },
  {
   "cell_type": "code",
   "execution_count": 4,
   "id": "historical-interpretation",
   "metadata": {},
   "outputs": [
    {
     "name": "stdout",
     "output_type": "stream",
     "text": [
      "Values used to generate data:\n",
      "m = -46.6\n",
      "b = -0.00747\n",
      "q = 6.18e-06\n",
      "\n",
      "Best fit values:\n",
      "m = -46.3 ± 0.479\n",
      "b = -0.00791 ± 0.000592\n",
      "q = 6.33e-06 ± 1.77e-07\n"
     ]
    },
    {
     "data": {
      "text/plain": [
       "Text(0.5, 1.0, 'Quadratic test data with quadratic fit (parameters inferred)')"
      ]
     },
     "execution_count": 4,
     "metadata": {},
     "output_type": "execute_result"
    },
    {
     "data": {
      "image/png": "[encoded data removed]",
      "text/plain": [
       "<Figure size 432x288 with 1 Axes>"
      ]
     },
     "metadata": {
      "needs_background": "light"
     },
     "output_type": "display_data"
    }
   ],
   "source": [
    "params, cov_mat = m.fit_quad(test_quad)\n",
    "\n",
    "print(\"Values used to generate data:\")\n",
    "print(\"m = {:.3}\".format(a0_quad))\n",
    "print(\"b = {:.3}\".format(a1_quad))\n",
    "print(\"q = {:.3}\".format(a2_quad))\n",
    "\n",
    "# print formatting function adapted from HW 6 solutions\n",
    "uncertainties = np.sqrt(np.diag(cov_mat))\n",
    "print(\"\\nBest fit values:\")\n",
    "for value, sigma, name in zip(params, uncertainties, 'mbq'):\n",
    "    print('{} = {:.3} ± {:.3}'.format(name, value, sigma))\n",
    "\n",
    "test_quad.plot(x='Depth', y='Temperature', kind='scatter', yerr=0.1,color='orange')\n",
    "plt.plot(x, params[2]*x**2 + params[1]*x + params[0], linestyle='dashed', color='red')\n",
    "plt.title(\"Quadratic test data with quadratic fit (parameters inferred)\")"
   ]
  },
  {
   "cell_type": "markdown",
   "id": "duplicate-membership",
   "metadata": {},
   "source": [
    "Indeed, this simple inference returns the parameters with which we generated the data within the errors."
   ]
  },
  {
   "cell_type": "markdown",
   "id": "disabled-placement",
   "metadata": {},
   "source": [
    "# Inference on test data with MCMC"
   ]
  },
  {
   "cell_type": "markdown",
   "id": "nasty-pakistan",
   "metadata": {},
   "source": [
    "Also in `model.py` is the function `fit_quad_MCMC()`, which fits the data to a quadratic function and extracts the relevant parameters and covariance matrix, this time using `pymc3`, which utilizes MCMC sampling techniques. Again, only the errors on the temperature are considered."
   ]
  },
  {
   "cell_type": "code",
   "execution_count": 6,
   "id": "powered-reminder",
   "metadata": {},
   "outputs": [
    {
     "name": "stderr",
     "output_type": "stream",
     "text": [
      "/Users/alexismulski/anaconda/envs/pymc3_env4/lib/python3.8/site-packages/pymc3/sampling.py:466: FutureWarning: In an upcoming release, pm.sample will return an `arviz.InferenceData` object instead of a `MultiTrace` by default. You can pass return_inferencedata=True or return_inferencedata=False to be safe and silence this warning.\n",
      "  warnings.warn(\n",
      "Auto-assigning NUTS sampler...\n",
      "Initializing NUTS using jitter+adapt_diag...\n",
      "Multiprocess sampling (2 chains in 4 jobs)\n",
      "NUTS: [b, m, q]\n"
     ]
    },
    {
     "data": {
      "text/html": [
       "\n",
       "    <div>\n",
       "        <style>\n",
       "            /* Turns off some styling */\n",
       "            progress {\n",
       "                /* gets rid of default border in Firefox and Opera. */\n",
       "                border: none;\n",
       "                /* Needs to be in here for Safari polyfill so background images work as expected. */\n",
       "                background-size: auto;\n",
       "            }\n",
       "            .progress-bar-interrupted, .progress-bar-interrupted::-webkit-progress-bar {\n",
       "                background: #F44336;\n",
       "            }\n",
       "        </style>\n",
       "      <progress value='190' class='' max='7000' style='width:300px; height:20px; vertical-align: middle;'></progress>\n",
       "      2.71% [190/7000 00:00<00:04 Sampling 2 chains, 0 divergences]\n",
       "    </div>\n",
       "    "
      ],
      "text/plain": [
       "<IPython.core.display.HTML object>"
      ]
     },
     "metadata": {},
     "output_type": "display_data"
    },
    {
     "ename": "RuntimeError",
     "evalue": "Chain 0 failed.",
     "output_type": "error",
     "traceback": [
      "\u001b[0;31m---------------------------------------------------------------------------\u001b[0m",
      "\u001b[0;31mRemoteTraceback\u001b[0m                           Traceback (most recent call last)",
      "\u001b[0;31mRemoteTraceback\u001b[0m: \n\"\"\"\nTraceback (most recent call last):\n  File \"/Users/alexismulski/anaconda/envs/pymc3_env4/lib/python3.8/site-packages/pymc3/parallel_sampling.py\", line 137, in run\n    self._start_loop()\n  File \"/Users/alexismulski/anaconda/envs/pymc3_env4/lib/python3.8/site-packages/pymc3/parallel_sampling.py\", line 191, in _start_loop\n    point, stats = self._compute_point()\n  File \"/Users/alexismulski/anaconda/envs/pymc3_env4/lib/python3.8/site-packages/pymc3/parallel_sampling.py\", line 216, in _compute_point\n    point, stats = self._step_method.step(self._point)\n  File \"/Users/alexismulski/anaconda/envs/pymc3_env4/lib/python3.8/site-packages/pymc3/step_methods/arraystep.py\", line 276, in step\n    apoint, stats = self.astep(array)\n  File \"/Users/alexismulski/anaconda/envs/pymc3_env4/lib/python3.8/site-packages/pymc3/step_methods/hmc/base_hmc.py\", line 147, in astep\n    self.potential.raise_ok(self._logp_dlogp_func._ordering.vmap)\n  File \"/Users/alexismulski/anaconda/envs/pymc3_env4/lib/python3.8/site-packages/pymc3/step_methods/hmc/quadpotential.py\", line 272, in raise_ok\n    raise ValueError(\"\\n\".join(errmsg))\nValueError: Mass matrix contains zeros on the diagonal. \nThe derivative of RV `b`.ravel()[0] is zero.\nThe derivative of RV `m`.ravel()[0] is zero.\n\"\"\"",
      "\nThe above exception was the direct cause of the following exception:\n",
      "\u001b[0;31mValueError\u001b[0m                                Traceback (most recent call last)",
      "\u001b[0;31mValueError\u001b[0m: Mass matrix contains zeros on the diagonal. \nThe derivative of RV `b`.ravel()[0] is zero.\nThe derivative of RV `m`.ravel()[0] is zero.",
      "\nThe above exception was the direct cause of the following exception:\n",
      "\u001b[0;31mRuntimeError\u001b[0m                              Traceback (most recent call last)",
      "\u001b[0;32m<ipython-input-6-add6a24c9e9b>\u001b[0m in \u001b[0;36m<module>\u001b[0;34m\u001b[0m\n\u001b[0;32m----> 1\u001b[0;31m \u001b[0mparams\u001b[0m\u001b[0;34m,\u001b[0m \u001b[0mcov_mat\u001b[0m \u001b[0;34m=\u001b[0m \u001b[0mm\u001b[0m\u001b[0;34m.\u001b[0m\u001b[0mfit_quad_MCMC\u001b[0m\u001b[0;34m(\u001b[0m\u001b[0mtest_quad\u001b[0m\u001b[0;34m)\u001b[0m\u001b[0;34m\u001b[0m\u001b[0;34m\u001b[0m\u001b[0m\n\u001b[0m",
      "\u001b[0;32m~/Documents/Harvard/PHYS201/icetemp/icetemp/model.py\u001b[0m in \u001b[0;36mfit_quad_MCMC\u001b[0;34m(data)\u001b[0m\n\u001b[1;32m    136\u001b[0m         \u001b[0mn_tuning_steps\u001b[0m \u001b[0;34m=\u001b[0m \u001b[0;36m2500\u001b[0m\u001b[0;34m\u001b[0m\u001b[0;34m\u001b[0m\u001b[0m\n\u001b[1;32m    137\u001b[0m         \u001b[0mndraws\u001b[0m \u001b[0;34m=\u001b[0m \u001b[0;36m1000\u001b[0m\u001b[0;34m\u001b[0m\u001b[0;34m\u001b[0m\u001b[0m\n\u001b[0;32m--> 138\u001b[0;31m         \u001b[0mtraces\u001b[0m \u001b[0;34m=\u001b[0m \u001b[0mpm\u001b[0m\u001b[0;34m.\u001b[0m\u001b[0msample\u001b[0m\u001b[0;34m(\u001b[0m\u001b[0mtune\u001b[0m\u001b[0;34m=\u001b[0m\u001b[0mn_tuning_steps\u001b[0m\u001b[0;34m,\u001b[0m \u001b[0mdraws\u001b[0m\u001b[0;34m=\u001b[0m\u001b[0mndraws\u001b[0m\u001b[0;34m,\u001b[0m \u001b[0mchains\u001b[0m\u001b[0;34m=\u001b[0m\u001b[0;36m2\u001b[0m\u001b[0;34m)\u001b[0m\u001b[0;34m\u001b[0m\u001b[0;34m\u001b[0m\u001b[0m\n\u001b[0m\u001b[1;32m    139\u001b[0m         \u001b[0maz\u001b[0m\u001b[0;34m.\u001b[0m\u001b[0mplot_trace\u001b[0m\u001b[0;34m(\u001b[0m\u001b[0mtraces\u001b[0m\u001b[0;34m)\u001b[0m\u001b[0;34m\u001b[0m\u001b[0;34m\u001b[0m\u001b[0m\n\u001b[1;32m    140\u001b[0m \u001b[0;34m\u001b[0m\u001b[0m\n",
      "\u001b[0;32m~/anaconda/envs/pymc3_env4/lib/python3.8/site-packages/pymc3/sampling.py\u001b[0m in \u001b[0;36msample\u001b[0;34m(draws, step, init, n_init, start, trace, chain_idx, chains, cores, tune, progressbar, model, random_seed, discard_tuned_samples, compute_convergence_checks, callback, jitter_max_retries, return_inferencedata, idata_kwargs, mp_ctx, pickle_backend, **kwargs)\u001b[0m\n\u001b[1;32m    556\u001b[0m         \u001b[0m_print_step_hierarchy\u001b[0m\u001b[0;34m(\u001b[0m\u001b[0mstep\u001b[0m\u001b[0;34m)\u001b[0m\u001b[0;34m\u001b[0m\u001b[0;34m\u001b[0m\u001b[0m\n\u001b[1;32m    557\u001b[0m         \u001b[0;32mtry\u001b[0m\u001b[0;34m:\u001b[0m\u001b[0;34m\u001b[0m\u001b[0;34m\u001b[0m\u001b[0m\n\u001b[0;32m--> 558\u001b[0;31m             \u001b[0mtrace\u001b[0m \u001b[0;34m=\u001b[0m \u001b[0m_mp_sample\u001b[0m\u001b[0;34m(\u001b[0m\u001b[0;34m**\u001b[0m\u001b[0msample_args\u001b[0m\u001b[0;34m,\u001b[0m \u001b[0;34m**\u001b[0m\u001b[0mparallel_args\u001b[0m\u001b[0;34m)\u001b[0m\u001b[0;34m\u001b[0m\u001b[0;34m\u001b[0m\u001b[0m\n\u001b[0m\u001b[1;32m    559\u001b[0m         \u001b[0;32mexcept\u001b[0m \u001b[0mpickle\u001b[0m\u001b[0;34m.\u001b[0m\u001b[0mPickleError\u001b[0m\u001b[0;34m:\u001b[0m\u001b[0;34m\u001b[0m\u001b[0;34m\u001b[0m\u001b[0m\n\u001b[1;32m    560\u001b[0m             \u001b[0m_log\u001b[0m\u001b[0;34m.\u001b[0m\u001b[0mwarning\u001b[0m\u001b[0;34m(\u001b[0m\u001b[0;34m\"Could not pickle model, sampling singlethreaded.\"\u001b[0m\u001b[0;34m)\u001b[0m\u001b[0;34m\u001b[0m\u001b[0;34m\u001b[0m\u001b[0m\n",
      "\u001b[0;32m~/anaconda/envs/pymc3_env4/lib/python3.8/site-packages/pymc3/sampling.py\u001b[0m in \u001b[0;36m_mp_sample\u001b[0;34m(draws, tune, step, chains, cores, chain, random_seed, start, progressbar, trace, model, callback, discard_tuned_samples, mp_ctx, pickle_backend, **kwargs)\u001b[0m\n\u001b[1;32m   1474\u001b[0m         \u001b[0;32mtry\u001b[0m\u001b[0;34m:\u001b[0m\u001b[0;34m\u001b[0m\u001b[0;34m\u001b[0m\u001b[0m\n\u001b[1;32m   1475\u001b[0m             \u001b[0;32mwith\u001b[0m \u001b[0msampler\u001b[0m\u001b[0;34m:\u001b[0m\u001b[0;34m\u001b[0m\u001b[0;34m\u001b[0m\u001b[0m\n\u001b[0;32m-> 1476\u001b[0;31m                 \u001b[0;32mfor\u001b[0m \u001b[0mdraw\u001b[0m \u001b[0;32min\u001b[0m \u001b[0msampler\u001b[0m\u001b[0;34m:\u001b[0m\u001b[0;34m\u001b[0m\u001b[0;34m\u001b[0m\u001b[0m\n\u001b[0m\u001b[1;32m   1477\u001b[0m                     \u001b[0mtrace\u001b[0m \u001b[0;34m=\u001b[0m \u001b[0mtraces\u001b[0m\u001b[0;34m[\u001b[0m\u001b[0mdraw\u001b[0m\u001b[0;34m.\u001b[0m\u001b[0mchain\u001b[0m \u001b[0;34m-\u001b[0m \u001b[0mchain\u001b[0m\u001b[0;34m]\u001b[0m\u001b[0;34m\u001b[0m\u001b[0;34m\u001b[0m\u001b[0m\n\u001b[1;32m   1478\u001b[0m                     \u001b[0;32mif\u001b[0m \u001b[0mtrace\u001b[0m\u001b[0;34m.\u001b[0m\u001b[0msupports_sampler_stats\u001b[0m \u001b[0;32mand\u001b[0m \u001b[0mdraw\u001b[0m\u001b[0;34m.\u001b[0m\u001b[0mstats\u001b[0m \u001b[0;32mis\u001b[0m \u001b[0;32mnot\u001b[0m \u001b[0;32mNone\u001b[0m\u001b[0;34m:\u001b[0m\u001b[0;34m\u001b[0m\u001b[0;34m\u001b[0m\u001b[0m\n",
      "\u001b[0;32m~/anaconda/envs/pymc3_env4/lib/python3.8/site-packages/pymc3/parallel_sampling.py\u001b[0m in \u001b[0;36m__iter__\u001b[0;34m(self)\u001b[0m\n\u001b[1;32m    477\u001b[0m \u001b[0;34m\u001b[0m\u001b[0m\n\u001b[1;32m    478\u001b[0m         \u001b[0;32mwhile\u001b[0m \u001b[0mself\u001b[0m\u001b[0;34m.\u001b[0m\u001b[0m_active\u001b[0m\u001b[0;34m:\u001b[0m\u001b[0;34m\u001b[0m\u001b[0;34m\u001b[0m\u001b[0m\n\u001b[0;32m--> 479\u001b[0;31m             \u001b[0mdraw\u001b[0m \u001b[0;34m=\u001b[0m \u001b[0mProcessAdapter\u001b[0m\u001b[0;34m.\u001b[0m\u001b[0mrecv_draw\u001b[0m\u001b[0;34m(\u001b[0m\u001b[0mself\u001b[0m\u001b[0;34m.\u001b[0m\u001b[0m_active\u001b[0m\u001b[0;34m)\u001b[0m\u001b[0;34m\u001b[0m\u001b[0;34m\u001b[0m\u001b[0m\n\u001b[0m\u001b[1;32m    480\u001b[0m             \u001b[0mproc\u001b[0m\u001b[0;34m,\u001b[0m \u001b[0mis_last\u001b[0m\u001b[0;34m,\u001b[0m \u001b[0mdraw\u001b[0m\u001b[0;34m,\u001b[0m \u001b[0mtuning\u001b[0m\u001b[0;34m,\u001b[0m \u001b[0mstats\u001b[0m\u001b[0;34m,\u001b[0m \u001b[0mwarns\u001b[0m \u001b[0;34m=\u001b[0m \u001b[0mdraw\u001b[0m\u001b[0;34m\u001b[0m\u001b[0;34m\u001b[0m\u001b[0m\n\u001b[1;32m    481\u001b[0m             \u001b[0mself\u001b[0m\u001b[0;34m.\u001b[0m\u001b[0m_total_draws\u001b[0m \u001b[0;34m+=\u001b[0m \u001b[0;36m1\u001b[0m\u001b[0;34m\u001b[0m\u001b[0;34m\u001b[0m\u001b[0m\n",
      "\u001b[0;32m~/anaconda/envs/pymc3_env4/lib/python3.8/site-packages/pymc3/parallel_sampling.py\u001b[0m in \u001b[0;36mrecv_draw\u001b[0;34m(processes, timeout)\u001b[0m\n\u001b[1;32m    357\u001b[0m             \u001b[0;32melse\u001b[0m\u001b[0;34m:\u001b[0m\u001b[0;34m\u001b[0m\u001b[0;34m\u001b[0m\u001b[0m\n\u001b[1;32m    358\u001b[0m                 \u001b[0merror\u001b[0m \u001b[0;34m=\u001b[0m \u001b[0mRuntimeError\u001b[0m\u001b[0;34m(\u001b[0m\u001b[0;34m\"Chain %s failed.\"\u001b[0m \u001b[0;34m%\u001b[0m \u001b[0mproc\u001b[0m\u001b[0;34m.\u001b[0m\u001b[0mchain\u001b[0m\u001b[0;34m)\u001b[0m\u001b[0;34m\u001b[0m\u001b[0;34m\u001b[0m\u001b[0m\n\u001b[0;32m--> 359\u001b[0;31m             \u001b[0;32mraise\u001b[0m \u001b[0merror\u001b[0m \u001b[0;32mfrom\u001b[0m \u001b[0mold_error\u001b[0m\u001b[0;34m\u001b[0m\u001b[0;34m\u001b[0m\u001b[0m\n\u001b[0m\u001b[1;32m    360\u001b[0m         \u001b[0;32melif\u001b[0m \u001b[0mmsg\u001b[0m\u001b[0;34m[\u001b[0m\u001b[0;36m0\u001b[0m\u001b[0;34m]\u001b[0m \u001b[0;34m==\u001b[0m \u001b[0;34m\"writing_done\"\u001b[0m\u001b[0;34m:\u001b[0m\u001b[0;34m\u001b[0m\u001b[0;34m\u001b[0m\u001b[0m\n\u001b[1;32m    361\u001b[0m             \u001b[0mproc\u001b[0m\u001b[0;34m.\u001b[0m\u001b[0m_readable\u001b[0m \u001b[0;34m=\u001b[0m \u001b[0;32mTrue\u001b[0m\u001b[0;34m\u001b[0m\u001b[0;34m\u001b[0m\u001b[0m\n",
      "\u001b[0;31mRuntimeError\u001b[0m: Chain 0 failed."
     ]
    }
   ],
   "source": [
    "params, cov_mat = m.fit_quad_MCMC(test_quad)"
   ]
  },
  {
   "cell_type": "code",
   "execution_count": null,
   "id": "annual-filename",
   "metadata": {},
   "outputs": [],
   "source": []
  },
  {
   "cell_type": "code",
   "execution_count": null,
   "id": "sophisticated-checkout",
   "metadata": {},
   "outputs": [],
   "source": []
  }
 ],
 "metadata": {
  "kernelspec": {
   "display_name": "Python 3",
   "language": "python",
   "name": "python3"
  },
  "language_info": {
   "codemirror_mode": {
    "name": "ipython",
    "version": 3
   },
   "file_extension": ".py",
   "mimetype": "text/x-python",
   "name": "python",
   "nbconvert_exporter": "python",
   "pygments_lexer": "ipython3",
   "version": "3.8.8"
  }
 },
 "nbformat": 4,
 "nbformat_minor": 5
}
