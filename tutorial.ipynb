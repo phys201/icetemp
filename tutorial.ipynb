{
 "cells": [
  {
   "cell_type": "markdown",
   "id": "fifteen-fiction",
   "metadata": {},
   "source": [
    "## <span style=\"color:DeepSkyBlue;\">Walking on Thick Ice</span>: Measuring Antarctic Ice Warming using IceCube Thermistor Data\n",
    "### Collaborators: Diyaselis Delgado, Alexis Mulski, Josh Villareal"
   ]
  },
  {
   "cell_type": "code",
   "execution_count": null,
   "id": "choice-lobby",
   "metadata": {},
   "outputs": [],
   "source": [
    "import icetemp"
   ]
  },
  {
   "cell_type": "markdown",
   "id": "injured-continent",
   "metadata": {},
   "source": [
    "The generative model used to analyze the data involves an uniform prior.\n",
    "\n",
    "$$ \\Delta T \\sim \\text{uniform}(0.01^{\\circ}\\text{C},0.1^{\\circ}\\text{C})$$"
   ]
  },
  {
   "cell_type": "markdown",
   "id": "breeding-value",
   "metadata": {},
   "source": [
    "Noise sources considered are directly related to the thermistor technical information. "
   ]
  },
  {
   "cell_type": "markdown",
   "id": "floral-wheel",
   "metadata": {},
   "source": [
    "The calculatations of the likelihood function from your statistical model is given by: "
   ]
  },
  {
   "cell_type": "code",
   "execution_count": null,
   "id": "increased-fusion",
   "metadata": {},
   "outputs": [],
   "source": [
    "likelihood = icetemp.likehood()"
   ]
  }
 ],
 "metadata": {
  "kernelspec": {
   "display_name": "Python 3",
   "language": "python",
   "name": "python3"
  },
  "language_info": {
   "codemirror_mode": {
    "name": "ipython",
    "version": 3
   },
   "file_extension": ".py",
   "mimetype": "text/x-python",
   "name": "python",
   "nbconvert_exporter": "python",
   "pygments_lexer": "ipython3",
   "version": "3.9.4"
  }
 },
 "nbformat": 4,
 "nbformat_minor": 5
}
