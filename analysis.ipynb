{
 "cells": [
  {
   "cell_type": "markdown",
   "id": "handled-cherry",
   "metadata": {},
   "source": [
    "## Ice Temperature (icetemp) Analysis"
   ]
  },
  {
   "cell_type": "markdown",
   "id": "found-being",
   "metadata": {},
   "source": [
    "Analyzing thermistor data from South Pole neutrino experiments during the time period 2002 - 2010"
   ]
  },
  {
   "cell_type": "code",
   "execution_count": null,
   "id": "authorized-montana",
   "metadata": {},
   "outputs": [],
   "source": [
    "# Standard imports\n",
    "%matplotlib inline\n",
    "import numpy as np\n",
    "import matplotlib.pyplot as plt\n",
    "import pandas as pd\n",
    "\n",
    "# Imports from ice temperature estimation package\n",
    "import icetemp\n",
    "import icetemp.data_io as io\n",
    "import icetemp.model as m"
   ]
  },
  {
   "cell_type": "code",
   "execution_count": null,
   "id": "exterior-cause",
   "metadata": {},
   "outputs": [],
   "source": []
  }
 ],
 "metadata": {
  "kernelspec": {
   "display_name": "Python 3",
   "language": "python",
   "name": "python3"
  },
  "language_info": {
   "codemirror_mode": {
    "name": "ipython",
    "version": 3
   },
   "file_extension": ".py",
   "mimetype": "text/x-python",
   "name": "python",
   "nbconvert_exporter": "python",
   "pygments_lexer": "ipython3",
   "version": "3.8.8"
  }
 },
 "nbformat": 4,
 "nbformat_minor": 5
}
