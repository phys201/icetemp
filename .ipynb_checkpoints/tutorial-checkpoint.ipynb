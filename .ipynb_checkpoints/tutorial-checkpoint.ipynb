{
 "cells": [
  {
   "cell_type": "markdown",
   "id": "provincial-baseline",
   "metadata": {},
   "source": [
    "## Ice Temperature (icetemp) Package Tutorial"
   ]
  },
  {
   "cell_type": "code",
   "execution_count": 1,
   "id": "unauthorized-formula",
   "metadata": {},
   "outputs": [],
   "source": [
    "# Standard imports\n",
    "%matplotlib inline\n",
    "import numpy as np\n",
    "import matplotlib.pyplot as plt\n",
    "\n",
    "# Package for ice temperature estimation\n",
    "import icetemp"
   ]
  },
  {
   "cell_type": "markdown",
   "id": "taken-promotion",
   "metadata": {},
   "source": [
    "This package is intended to infer the change in temperature from measurements of temperature ($^\\circ$C) and depth (m) off of thermistor provided by the AMANDA and IceCube collaborations. Our baseline hypothesis determines a linear relationship between the ice temperature and the depth. We contruct a generative model used to analyze the data involves an uniform prior and normal likelihood.\n",
    "\n",
    "$$ \\mu_T \\sim \\text{uniform}(0.01^{\\circ}\\text{C},0.1^{\\circ}\\text{C})$$\n",
    "$$ \\Delta T \\sim \\text{normal}(\\mu_T,\\sigma_\\text{noise})$$\n",
    "$$ \\mathcal{L} \\propto \\prod \\frac{}{\\sqrt{}} * exp() $$"
   ]
  },
  {
   "cell_type": "markdown",
   "id": "constitutional-demonstration",
   "metadata": {},
   "source": [
    "Noise sources considered are directly related to the thermistor technical information. "
   ]
  },
  {
   "cell_type": "markdown",
   "id": "weighted-contributor",
   "metadata": {},
   "source": [
    "The calculatations of the likelihood function from your statistical model is given by: "
   ]
  },
  {
   "cell_type": "code",
   "execution_count": 4,
   "id": "smooth-insert",
   "metadata": {},
   "outputs": [
    {
     "ename": "TypeError",
     "evalue": "load_ice_data() missing 1 required positional argument: 'data_year'",
     "output_type": "error",
     "traceback": [
      "\u001b[0;31m---------------------------------------------------------------------------\u001b[0m",
      "\u001b[0;31mTypeError\u001b[0m                                 Traceback (most recent call last)",
      "\u001b[0;32m<ipython-input-4-d63e910df823>\u001b[0m in \u001b[0;36m<module>\u001b[0;34m\u001b[0m\n\u001b[1;32m      1\u001b[0m \u001b[0;31m# load some data\u001b[0m\u001b[0;34m\u001b[0m\u001b[0;34m\u001b[0m\u001b[0;34m\u001b[0m\u001b[0m\n\u001b[1;32m      2\u001b[0m \u001b[0;32mfrom\u001b[0m \u001b[0mdata_io\u001b[0m \u001b[0;32mimport\u001b[0m \u001b[0mload_ice_data\u001b[0m\u001b[0;34m\u001b[0m\u001b[0;34m\u001b[0m\u001b[0m\n\u001b[0;32m----> 3\u001b[0;31m \u001b[0mex_data\u001b[0m \u001b[0;34m=\u001b[0m \u001b[0mload_ice_data\u001b[0m\u001b[0;34m(\u001b[0m\u001b[0;34m\"icecube_temp.2007.txt\"\u001b[0m\u001b[0;34m,\u001b[0m \u001b[0mtemp_errors\u001b[0m\u001b[0;34m=\u001b[0m\u001b[0;36m0.1\u001b[0m\u001b[0;34m,\u001b[0m \u001b[0mdepth_errors\u001b[0m\u001b[0;34m=\u001b[0m\u001b[0;36m2\u001b[0m\u001b[0;34m)\u001b[0m\u001b[0;34m\u001b[0m\u001b[0;34m\u001b[0m\u001b[0m\n\u001b[0m",
      "\u001b[0;31mTypeError\u001b[0m: load_ice_data() missing 1 required positional argument: 'data_year'"
     ]
    }
   ],
   "source": [
    "# load some data\n",
    "# FIXME: change to load the example data\n",
    "from data_io import load_ice_data\n",
    "ex_data = load_ice_data(\"icecube_temp.2007.txt\", temp_errors=0.1, depth_errors=2)"
   ]
  },
  {
   "cell_type": "code",
   "execution_count": null,
   "id": "bottom-webmaster",
   "metadata": {},
   "outputs": [],
   "source": [
    "#likelihood = icetemp.likehood()"
   ]
  }
 ],
 "metadata": {
  "kernelspec": {
   "display_name": "Python 3",
   "language": "python",
   "name": "python3"
  },
  "language_info": {
   "codemirror_mode": {
    "name": "ipython",
    "version": 3
   },
   "file_extension": ".py",
   "mimetype": "text/x-python",
   "name": "python",
   "nbconvert_exporter": "python",
   "pygments_lexer": "ipython3",
   "version": "3.8.8"
  }
 },
 "nbformat": 4,
 "nbformat_minor": 5
}
