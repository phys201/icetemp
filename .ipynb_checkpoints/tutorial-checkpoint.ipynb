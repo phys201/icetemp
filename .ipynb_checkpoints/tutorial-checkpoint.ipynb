{
 "cells": [
  {
   "cell_type": "markdown",
   "id": "signal-sherman",
   "metadata": {},
   "source": [
    "## Ice Temperature (icetemp) Package Tutorial"
   ]
  },
  {
   "cell_type": "code",
   "execution_count": 1,
   "id": "disciplinary-short",
   "metadata": {},
   "outputs": [],
   "source": [
    "# Standard imports\n",
    "%matplotlib inline\n",
    "import numpy as np\n",
    "import matplotlib.pyplot as plt\n",
    "\n",
    "# Package for ice temperature estimation\n",
    "import icetemp"
   ]
  },
  {
   "cell_type": "markdown",
   "id": "atmospheric-gallery",
   "metadata": {},
   "source": [
    "This package is intended to infer the change in temperature from measurements of temperature ($^\\circ$C) and depth (m) off of thermistor provided by the AMANDA and IceCube collaborations. Our baseline hypothesis determines a linear relationship between the ice temperature and the depth. We contruct a generative model used to analyze the data involves an uniform prior and normal likelihood.\n",
    "\n",
    "$$ \\mu_T \\sim \\text{uniform}(0.01^{\\circ}\\text{C},0.1^{\\circ}\\text{C})$$\n",
    "$$ \\Delta T \\sim \\text{normal}(\\mu_T,\\sigma_\\text{noise})$$\n",
    "$$ \\mathcal{L} \\propto \\prod \\frac{}{\\sqrt{}} * exp() $$"
   ]
  },
  {
   "cell_type": "markdown",
   "id": "breathing-tiffany",
   "metadata": {},
   "source": [
    "Noise sources considered are directly related to the thermistor technical information. "
   ]
  },
  {
   "cell_type": "markdown",
   "id": "previous-canvas",
   "metadata": {},
   "source": [
    "The calculatations of the likelihood function from your statistical model is given by: "
   ]
  },
  {
   "cell_type": "code",
   "execution_count": 5,
   "id": "associate-compound",
   "metadata": {},
   "outputs": [
    {
     "name": "stdout",
     "output_type": "stream",
     "text": [
      "/Users/alexismulski/Documents/Harvard/PHYS201/icetemp/south_pole_ice_temperature_data_release/icecube_temp.2007.txt\n",
      "0    NaN\n",
      "1    NaN\n",
      "2    NaN\n",
      "3    NaN\n",
      "4    NaN\n",
      "5    NaN\n",
      "6    NaN\n",
      "7    NaN\n",
      "8    NaN\n",
      "9    NaN\n",
      "10   NaN\n",
      "Name: Depth, dtype: float64\n"
     ]
    }
   ],
   "source": [
    "# load some data\n",
    "# FIXME: change to load the example data\n",
    "from data_io import load_ice_data\n",
    "ex_data = load_ice_data(\"icecube_temp.2007.txt\", temp_errors=0.1, depth_errors=2)"
   ]
  },
  {
   "cell_type": "code",
   "execution_count": null,
   "id": "meaning-segment",
   "metadata": {},
   "outputs": [],
   "source": [
    "#likelihood = icetemp.likehood()"
   ]
  }
 ],
 "metadata": {
  "kernelspec": {
   "display_name": "Python 3",
   "language": "python",
   "name": "python3"
  },
  "language_info": {
   "codemirror_mode": {
    "name": "ipython",
    "version": 3
   },
   "file_extension": ".py",
   "mimetype": "text/x-python",
   "name": "python",
   "nbconvert_exporter": "python",
   "pygments_lexer": "ipython3",
   "version": "3.8.8"
  }
 },
 "nbformat": 4,
 "nbformat_minor": 5
}
