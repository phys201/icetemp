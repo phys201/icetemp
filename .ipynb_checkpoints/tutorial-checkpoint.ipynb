{
 "cells": [
  {
   "cell_type": "markdown",
   "id": "juvenile-gasoline",
   "metadata": {},
   "source": [
    "## Ice Temperature (icetemp) Package Tutorial"
   ]
  },
  {
   "cell_type": "code",
   "execution_count": 4,
   "id": "artificial-playing",
   "metadata": {},
   "outputs": [],
   "source": [
    "# Standard imports\n",
    "%matplotlib inline\n",
    "import numpy as np\n",
    "import matplotlib.pyplot as plt\n",
    "\n",
    "# Package for ice temperature estimation\n",
    "import icetemp"
   ]
  },
  {
   "cell_type": "markdown",
   "id": "aging-watershed",
   "metadata": {},
   "source": [
    "This package is intended to infer the change in temperature from measurements of temperature ($^\\circ$C) and depth (m) off of thermistor provided by the AMANDA and IceCube collaborations. Our baseline hypothesis determines a linear relationship between the ice temperature and the depth. We contruct a generative model used to analyze the data involves an uniform prior and normal likelihood.\n",
    "\n",
    "$$ \\mu_T \\sim \\text{uniform}(0.01^{\\circ}\\text{C},0.1^{\\circ}\\text{C})$$\n",
    "$$ \\Delta T \\sim \\text{normal}(\\mu_T,\\sigma_\\text{noise})$$\n",
    "$$ \\mathcal{L} \\propto \\prod \\frac{}{\\sqrt{}} * exp() $$"
   ]
  },
  {
   "cell_type": "markdown",
   "id": "divine-fairy",
   "metadata": {},
   "source": [
    "Noise sources considered are directly related to the thermistor technical information. "
   ]
  },
  {
   "cell_type": "markdown",
   "id": "senior-memorial",
   "metadata": {},
   "source": [
    "The calculatations of the likelihood function from your statistical model is given by: "
   ]
  },
  {
   "cell_type": "code",
   "execution_count": 5,
   "id": "strange-collector",
   "metadata": {},
   "outputs": [
    {
     "name": "stdout",
     "output_type": "stream",
     "text": [
      "0    -28.76\n",
      "1    -25.09\n",
      "2    -20.93\n",
      "3    -26.51\n",
      "4    -22.42\n",
      "5    -17.89\n",
      "6    -25.79\n",
      "7    -21.55\n",
      "8    -18.23\n",
      "9    -26.26\n",
      "10   -17.69\n",
      "Name: Temperature, dtype: float64\n"
     ]
    },
    {
     "name": "stderr",
     "output_type": "stream",
     "text": [
      "/Users/alexismulski/Documents/Harvard/PHYS201/icetemp/data_io.py:22: ParserWarning: Falling back to the 'python' engine because the 'c' engine does not support regex separators (separators > 1 char and different from '\\s+' are interpreted as regex); you can avoid this warning by specifying engine='python'.\n",
      "  data = pd.read_csv(data_path, header=None, sep=' |\\t', names = [\"Temperature\", \"Depth\"])\n"
     ]
    }
   ],
   "source": [
    "# load some data\n",
    "# FIXME: change to load the example data\n",
    "from data_io import load_ice_data\n",
    "ex_data = load_ice_data(\"icecube_temp.2007.txt\", data_year=2007,temp_errors=0.1, depth_errors=2)\n",
    "print(ex_data['Temperature'])"
   ]
  },
  {
   "cell_type": "code",
   "execution_count": 10,
   "id": "simple-guidance",
   "metadata": {},
   "outputs": [
    {
     "data": {
      "image/png": "[encoded data removed]",
      "text/plain": [
       "<Figure size 432x288 with 1 Axes>"
      ]
     },
     "metadata": {
      "needs_background": "light"
     },
     "output_type": "display_data"
    }
   ],
   "source": [
    "# Part 6 test (will go in model.py)\n",
    "import pandas as pd\n",
    "test_linear = pd.DataFrame({ 'Depth': [0, -1, -2, -3],\n",
    "                            'Temperature': [0, -1, -2, -3],\n",
    "                              'err': [0.1, 0.1, 0.1, 0.1]})\n",
    "\n",
    "\n",
    "test_linear.plot(x='Depth', y='Temperature', kind='scatter', yerr=0.1);\n",
    "\n",
    "def calc_likelihood(data, m, b):\n",
    "    # model: temp = slope*depth + intercept\n",
    "    \n",
    "    # prepare data\n",
    "    depth = data['Depth'].values\n",
    "    print(depth)\n",
    "    temp = data['Temperature'].values\n",
    "    print(temp)\n",
    "    temp_error = data['err'].values # FIXME\n",
    "    likelihood =  np.prod(1. / np.sqrt(2 * np.pi * temp_error ** 2) * np.exp(-(temp - m * depth - b)**2 / (2 * temp_error ** 2) ) )\n",
    "    return likelihood"
   ]
  },
  {
   "cell_type": "code",
   "execution_count": 11,
   "id": "damaged-contributor",
   "metadata": {},
   "outputs": [
    {
     "name": "stdout",
     "output_type": "stream",
     "text": [
      "[ 0 -1 -2 -3]\n",
      "[ 0 -1 -2 -3]\n",
      "253.30295910584448\n"
     ]
    }
   ],
   "source": [
    "print(calc_likelihood(test_linear, 1, 0))"
   ]
  },
  {
   "cell_type": "code",
   "execution_count": null,
   "id": "affected-collect",
   "metadata": {},
   "outputs": [],
   "source": []
  },
  {
   "cell_type": "code",
   "execution_count": null,
   "id": "floral-client",
   "metadata": {},
   "outputs": [],
   "source": []
  }
 ],
 "metadata": {
  "kernelspec": {
   "display_name": "Python 3",
   "language": "python",
   "name": "python3"
  },
  "language_info": {
   "codemirror_mode": {
    "name": "ipython",
    "version": 3
   },
   "file_extension": ".py",
   "mimetype": "text/x-python",
   "name": "python",
   "nbconvert_exporter": "python",
   "pygments_lexer": "ipython3",
   "version": "3.8.8"
  }
 },
 "nbformat": 4,
 "nbformat_minor": 5
}
