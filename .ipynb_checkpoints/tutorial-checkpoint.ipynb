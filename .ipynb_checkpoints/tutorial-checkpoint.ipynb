{
 "cells": [
  {
   "cell_type": "markdown",
   "id": "juvenile-gasoline",
   "metadata": {},
   "source": [
    "## Ice Temperature (icetemp) Package Tutorial"
   ]
  },
  {
   "cell_type": "code",
   "execution_count": 2,
   "id": "artificial-playing",
   "metadata": {},
   "outputs": [],
   "source": [
    "# Standard imports\n",
    "%matplotlib inline\n",
    "import numpy as np\n",
    "import matplotlib.pyplot as plt\n",
    "import pandas as pd\n",
    "\n",
    "# Package for ice temperature estimation\n",
    "import icetemp"
   ]
  },
  {
   "cell_type": "markdown",
   "id": "aging-watershed",
   "metadata": {},
   "source": [
    "This package is intended to infer the change in temperature from measurements of temperature ($^\\circ$C) and depth (m) off of thermistor provided by the AMANDA and IceCube collaborations. Our baseline hypothesis determines a quadratic relationship between the ice temperature and the depth. We contruct a generative model used to analyze the data involves an uniform prior and normal likelihood.\n",
    "\n",
    "$$ \\mu_T \\sim \\text{uniform}(0.01^{\\circ}\\text{C},0.1^{\\circ}\\text{C})$$\n",
    "$$ \\Delta T \\sim \\text{normal}(\\mu_T,\\sigma_\\text{T})$$\n",
    "$$ \\mathcal{L} \\propto \\prod_i \\frac{1}{\\sqrt{2\\pi \\sigma_T^2}} * \\exp \\Big(\\frac{-(y_i - q x_i^2 - mx_i - b)^2}{2\\sigma_T^2}\\Big) $$"
   ]
  },
  {
   "cell_type": "markdown",
   "id": "divine-fairy",
   "metadata": {},
   "source": [
    "Noise sources considered are directly related to the thermistor technical information. \n",
    "___\n",
    "___\n"
   ]
  },
  {
   "cell_type": "markdown",
   "id": "global-russia",
   "metadata": {},
   "source": [
    "#### Let's take a look at our data!"
   ]
  },
  {
   "cell_type": "code",
   "execution_count": 3,
   "id": "strange-collector",
   "metadata": {},
   "outputs": [
    {
     "name": "stdout",
     "output_type": "stream",
     "text": [
      "    Temperature    Depth  data_year  temp_errors  depth_errors\n",
      "0        -28.76 -2078.18       2007          0.1             2\n",
      "1        -25.09 -2214.35       2007          0.1             2\n",
      "2        -20.93 -2350.52       2007          0.1             2\n",
      "3        -26.51 -2161.09       2007          0.1             2\n",
      "4        -22.42 -2297.25       2007          0.1             2\n",
      "5        -17.89 -2433.42       2007          0.1             2\n",
      "6        -25.79 -2195.40       2007          0.1             2\n",
      "7        -21.55 -2331.57       2007          0.1             2\n",
      "8        -18.23 -2433.69       2007          0.1             2\n",
      "9        -26.26 -2171.54       2007          0.1             2\n",
      "10       -17.69 -2443.87       2007          0.1             2\n"
     ]
    },
    {
     "name": "stderr",
     "output_type": "stream",
     "text": [
      "/Users/ddelgado/Documents/GitHub/icetemp/data_io.py:22: ParserWarning: Falling back to the 'python' engine because the 'c' engine does not support regex separators (separators > 1 char and different from '\\s+' are interpreted as regex); you can avoid this warning by specifying engine='python'.\n",
      "  data = pd.read_csv(data_path, header=None, sep=' |\\t', names = [\"Temperature\", \"Depth\"])\n"
     ]
    }
   ],
   "source": [
    "# load some data\n",
    "# FIXME: change to load the test data\n",
    "\n",
    "from data_io import load_ice_data\n",
    "ex_data = load_ice_data(\"icecube_temp.2007.txt\", data_year=2007,temp_errors=0.1, depth_errors=2)\n",
    "print(ex_data)"
   ]
  },
  {
   "cell_type": "markdown",
   "id": "senior-memorial",
   "metadata": {},
   "source": [
    "From our data (Pandas DataFrame) we can calculate the likelihood function of our statistical model."
   ]
  },
  {
   "cell_type": "code",
   "execution_count": 5,
   "id": "simple-guidance",
   "metadata": {},
   "outputs": [
    {
     "name": "stdout",
     "output_type": "stream",
     "text": [
      "The likelihood value for this model is 253.30\n"
     ]
    },
    {
     "data": {
      "image/png": "[encoded data removed]",
      "text/plain": [
       "<Figure size 432x288 with 1 Axes>"
      ]
     },
     "metadata": {
      "needs_background": "light"
     },
     "output_type": "display_data"
    }
   ],
   "source": [
    "# Implement model.py to calculate likelihood\n",
    "# FIXME: change to use the test data\n",
    "\n",
    "test_linear = pd.DataFrame({ 'Depth': [0, -1, -2, -3],\n",
    "                            'Temperature': [0, -1, -2, -3],\n",
    "                              'temp_errors': [0.1, 0.1, 0.1, 0.1]})\n",
    "\n",
    "test_linear.plot(x='Depth', y='Temperature', kind='scatter', yerr=0.1);\n",
    "\n",
    "from model import calc_linear_likelihood\n",
    "\n",
    "print('The likelihood value for this model is {:.2f}'.format(calc_linear_likelihood(test_linear, 1, 0)))"
   ]
  }
 ],
 "metadata": {
  "kernelspec": {
   "display_name": "Python 3",
   "language": "python",
   "name": "python3"
  },
  "language_info": {
   "codemirror_mode": {
    "name": "ipython",
    "version": 3
   },
   "file_extension": ".py",
   "mimetype": "text/x-python",
   "name": "python",
   "nbconvert_exporter": "python",
   "pygments_lexer": "ipython3",
   "version": "3.9.4"
  }
 },
 "nbformat": 4,
 "nbformat_minor": 5
}
