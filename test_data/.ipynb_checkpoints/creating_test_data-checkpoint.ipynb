{
 "cells": [
  {
   "cell_type": "markdown",
   "metadata": {},
   "source": [
    "# Generating test data"
   ]
  },
  {
   "cell_type": "code",
   "execution_count": 10,
   "metadata": {},
   "outputs": [],
   "source": [
    "import matplotlib.pyplot as plt\n",
    "import numpy as np"
   ]
  },
  {
   "cell_type": "markdown",
   "metadata": {},
   "source": [
    "Here, we generate test data and store them in the form of `.txt` files `test_data_linear.txt` and `test_data_quadratic.txt`, where:\n",
    "- in `test_data_linear.txt`, data $(x_i, y_i)$ is generated according to $x_i \\sim \\mathcal{N} (\\mu_i, \\sigma_x)$ for $\\mu_i \\sim \\textrm{Unif} (800, 2400)$ and $\\sigma_x = 2$, and $y_i \\sim (\\eta_i, \\sigma_y)$ for $\\eta_i = a_0 + a_1 \\mu_i$ and $\\sigma_y = 0.1$. We'd like to recover parameter values $a_0 = -6.35 \\times 10^1$ and $a_1 = 1.66 \\times 10^{-2}$, and\n",
    "- in `test_data_quadratic.txt`, data $(x_i, y_i)$ is generated according to $x_i \\sim \\mathcal{N} (\\mu_i, \\sigma_x)$ for $\\mu_i \\sim \\textrm{Unif} (800, 2400)$ and $\\sigma_x = 2$, and $y_i \\sim (\\eta_i, \\sigma_y)$ for $\\eta_i = a_0 + a_1 \\mu_i + a_2 \\mu_i^2$ and $\\sigma_y = 0.1$. We'd like to recover parameter values $a_0 = -4.66 \\times 10^1$, $a_1 = -7.47 \\times 10^{-3}$, and $a_2 = 6.18 \\times 10^{-6}$.\n",
    "\n",
    "The $x$ data are depths in meters, and the $y$ data are ice temperature in $^\\circ$C."
   ]
  },
  {
   "cell_type": "code",
   "execution_count": 5,
   "metadata": {},
   "outputs": [
    {
     "data": {
      "text/plain": [
       "array([1198.65239314,  974.41925056, 1477.75432355, 2264.37690357,\n",
       "       1102.30002102, 1183.11118253, 1897.89770159, 1470.29663035,\n",
       "       1311.03638317, 1162.25759251, 2274.8571385 , 1170.34422257,\n",
       "       2154.72696642, 1560.09529241, 2206.44550688, 1249.24512776,\n",
       "       1530.41224396, 1689.00521492, 1594.10864746, 1519.88820337])"
      ]
     },
     "execution_count": 5,
     "metadata": {},
     "output_type": "execute_result"
    }
   ],
   "source": [
    "# defining depths\n",
    "depths_means = np.random.rand(20)*1600+800\n",
    "depths = np.random.normal(loc=depths_means, scale=2)\n",
    "depths"
   ]
  },
  {
   "cell_type": "code",
   "execution_count": 31,
   "metadata": {},
   "outputs": [],
   "source": [
    "# defining model parameters for linear and quadratic fit\n",
    "a0_lin, a1_lin = -6.35e1, 1.66e-2\n",
    "a0_quad, a1_quad, a2_quad = -4.66e1, -7.47e-3, 6.18e-6"
   ]
  },
  {
   "cell_type": "code",
   "execution_count": 32,
   "metadata": {},
   "outputs": [
    {
     "data": {
      "text/plain": [
       "array([-43.59505594, -47.29394174, -39.04505928, -25.78326001,\n",
       "       -45.34583783, -43.94359448, -32.15247629, -39.23249258,\n",
       "       -41.89145427, -44.26167608, -25.6769747 , -44.12876733,\n",
       "       -27.76224852, -37.43014901, -26.95948757, -42.69084289,\n",
       "       -38.14384617, -35.23705324, -36.90741344, -38.17969269])"
      ]
     },
     "execution_count": 32,
     "metadata": {},
     "output_type": "execute_result"
    }
   ],
   "source": [
    "# get linear temperatures\n",
    "lin_temp_means = a0_lin + a1_lin*depths_means\n",
    "lin_temps = np.random.normal(loc=lin_temp_means, scale=0.1)\n",
    "lin_temps"
   ]
  },
  {
   "cell_type": "code",
   "execution_count": 33,
   "metadata": {},
   "outputs": [
    {
     "data": {
      "text/plain": [
       "array([-46.55061817, -48.08279081, -44.31809153, -31.92724102,\n",
       "       -47.24958891, -46.87915145, -38.51722504, -44.4041912 ,\n",
       "       -45.77179706, -47.00130414, -31.58019664, -46.88251569,\n",
       "       -33.83054508, -43.21997765, -32.98371229, -46.31014488,\n",
       "       -43.54094025, -41.3495298 , -42.90343939, -43.61661414])"
      ]
     },
     "execution_count": 33,
     "metadata": {},
     "output_type": "execute_result"
    }
   ],
   "source": [
    "# get quadratic temperatures\n",
    "quad_temp_means = a0_quad + a1_quad*depths_means + a2_quad*depths_means**2\n",
    "quad_temps = np.random.normal(loc=quad_temp_means, scale=0.1)\n",
    "quad_temps"
   ]
  },
  {
   "cell_type": "code",
   "execution_count": 34,
   "metadata": {},
   "outputs": [
    {
     "data": {
      "image/png": "[encoded data removed]",
      "text/plain": [
       "<Figure size 432x288 with 1 Axes>"
      ]
     },
     "metadata": {
      "needs_background": "light"
     },
     "output_type": "display_data"
    }
   ],
   "source": [
    "# plotting\n",
    "plt.scatter(depths, lin_temps, label='linear test data')\n",
    "plt.scatter(depths, quad_temps, label='quadratic test data')\n",
    "plt.xlabel('Depth [m]')\n",
    "plt.ylabel('Temperature [$^\\\\circ$C]')\n",
    "plt.legend()\n",
    "plt.show()"
   ]
  },
  {
   "cell_type": "code",
   "execution_count": 36,
   "metadata": {},
   "outputs": [],
   "source": [
    "# write to txt files\n",
    "lin_file = open('test_data_linear.txt', 'w+')\n",
    "quad_file = open('test_data_quadratic.txt', 'w+')\n",
    "\n",
    "for i, depth in enumerate(depths):\n",
    "    lin_file.write(f'{depth}\\t{lin_temps[i]}\\n')\n",
    "    quad_file.write(f'{depth}\\t{lin_temps[i]}\\n')\n",
    "\n",
    "lin_file.close()\n",
    "quad_file.close()"
   ]
  },
  {
   "cell_type": "code",
   "execution_count": null,
   "metadata": {},
   "outputs": [],
   "source": []
  }
 ],
 "metadata": {
  "kernelspec": {
   "display_name": "Python 3",
   "language": "python",
   "name": "python3"
  },
  "language_info": {
   "codemirror_mode": {
    "name": "ipython",
    "version": 3
   },
   "file_extension": ".py",
   "mimetype": "text/x-python",
   "name": "python",
   "nbconvert_exporter": "python",
   "pygments_lexer": "ipython3",
   "version": "3.8.3"
  }
 },
 "nbformat": 4,
 "nbformat_minor": 4
}
