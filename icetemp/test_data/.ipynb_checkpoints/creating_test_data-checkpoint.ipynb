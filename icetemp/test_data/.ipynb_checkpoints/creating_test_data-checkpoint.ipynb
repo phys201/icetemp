{
 "cells": [
  {
   "cell_type": "markdown",
   "metadata": {},
   "source": [
    "# Generating test data"
   ]
  },
  {
   "cell_type": "code",
   "execution_count": 1,
   "metadata": {},
   "outputs": [],
   "source": [
    "import matplotlib.pyplot as plt\n",
    "import numpy as np"
   ]
  },
  {
   "cell_type": "markdown",
   "metadata": {},
   "source": [
    "Here, we generate test data and store them in the form of `.txt` files `test_data_linear.txt` and `test_data_quadratic.txt`, where:\n",
    "- in `test_data_linear.txt`, data $(x_i, y_i)$ is generated according to $x_i \\sim \\mathcal{N} (\\mu_i, \\sigma_x)$ for $\\mu_i \\sim \\textrm{Unif} (800, 2400)$ and $\\sigma_x = 2$, and $y_i \\sim (\\eta_i, \\sigma_y)$ for $\\eta_i = a_0 + a_1 \\mu_i$ and $\\sigma_y = 0.1$. We'd like to recover parameter values $a_0 = -6.35 \\times 10^1$ and $a_1 = 1.66 \\times 10^{-2}$, and\n",
    "- in `test_data_quadratic.txt`, data $(x_i, y_i)$ is generated according to $x_i \\sim \\mathcal{N} (\\mu_i, \\sigma_x)$ for $\\mu_i \\sim \\textrm{Unif} (800, 2400)$ and $\\sigma_x = 2$, and $y_i \\sim (\\eta_i, \\sigma_y)$ for $\\eta_i = a_0 + a_1 \\mu_i + a_2 \\mu_i^2$ and $\\sigma_y = 0.1$. We'd like to recover parameter values $a_0 = -4.66 \\times 10^1$, $a_1 = -7.47 \\times 10^{-3}$, and $a_2 = 6.18 \\times 10^{-6}$.\n",
    "\n",
    "The $x$ data are depths in meters, and the $y$ data are ice temperature in $^\\circ$C."
   ]
  },
  {
   "cell_type": "code",
   "execution_count": 2,
   "metadata": {},
   "outputs": [
    {
     "data": {
      "text/plain": [
       "array([1483.05517755, 1106.93848826, 1612.77237487, 2048.90392656,\n",
       "       1161.15313701, 1940.99263713, 1681.12358801, 2229.05198592,\n",
       "       2226.79647807, 1660.61014261, 1122.51700257, 1729.82655435,\n",
       "       1669.49040303, 1184.68742718, 1689.00409342, 1695.56351639,\n",
       "       1394.33980324, 2171.63380852, 1278.0983693 , 1604.9145724 ])"
      ]
     },
     "execution_count": 2,
     "metadata": {},
     "output_type": "execute_result"
    }
   ],
   "source": [
    "# defining depths\n",
    "depths_means = np.random.rand(20)*(1600)+800\n",
    "depths = np.random.normal(loc=depths_means, scale=2)\n",
    "depths"
   ]
  },
  {
   "cell_type": "code",
   "execution_count": 3,
   "metadata": {},
   "outputs": [],
   "source": [
    "# defining model parameters for linear and quadratic fit\n",
    "a0_lin, a1_lin = -6.35e1, 1.66e-2\n",
    "a0_quad, a1_quad, a2_quad = -4.66e1, -7.47e-3, 6.18e-6"
   ]
  },
  {
   "cell_type": "code",
   "execution_count": 4,
   "metadata": {},
   "outputs": [
    {
     "data": {
      "text/plain": [
       "array([-38.80214539, -45.04312647, -36.61236712, -29.47393564,\n",
       "       -44.21258193, -31.27167151, -35.73292847, -26.49531009,\n",
       "       -26.60361685, -35.84817814, -44.83120522, -34.83087793,\n",
       "       -35.78745484, -43.78637766, -35.43664066, -35.28964747,\n",
       "       -40.31248378, -27.59685623, -42.1666044 , -36.86887886])"
      ]
     },
     "execution_count": 4,
     "metadata": {},
     "output_type": "execute_result"
    }
   ],
   "source": [
    "# get linear temperatures\n",
    "lin_temp_means = a0_lin + a1_lin*depths_means\n",
    "lin_temps = np.random.normal(loc=lin_temp_means, scale=0.1)\n",
    "lin_temps"
   ]
  },
  {
   "cell_type": "code",
   "execution_count": 5,
   "metadata": {},
   "outputs": [
    {
     "data": {
      "text/plain": [
       "array([-44.14037501, -47.32254072, -42.48161877, -35.96966225,\n",
       "       -47.13149049, -37.864937  , -41.73924268, -32.56967785,\n",
       "       -32.51898178, -41.98770831, -47.01638014, -41.04005962,\n",
       "       -41.78089753, -46.94785196, -41.61296189, -41.70707913,\n",
       "       -45.15865968, -33.64611493, -45.96560283, -42.7812652 ])"
      ]
     },
     "execution_count": 5,
     "metadata": {},
     "output_type": "execute_result"
    }
   ],
   "source": [
    "# get quadratic temperatures\n",
    "quad_temp_means = a0_quad + a1_quad*depths_means + a2_quad*depths_means**2\n",
    "quad_temps = np.random.normal(loc=quad_temp_means, scale=0.1)\n",
    "quad_temps"
   ]
  },
  {
   "cell_type": "code",
   "execution_count": 6,
   "metadata": {},
   "outputs": [
    {
     "data": {
      "image/png": "[encoded data removed]",
      "text/plain": [
       "<Figure size 432x288 with 1 Axes>"
      ]
     },
     "metadata": {
      "needs_background": "light"
     },
     "output_type": "display_data"
    }
   ],
   "source": [
    "# plotting\n",
    "plt.scatter(depths, lin_temps, label='linear test data')\n",
    "plt.scatter(depths, quad_temps, label='quadratic test data')\n",
    "plt.xlabel('Depth [m]')\n",
    "plt.ylabel('Temperature [$^\\\\circ$C]')\n",
    "plt.legend()\n",
    "plt.show()"
   ]
  },
  {
   "cell_type": "code",
   "execution_count": 7,
   "metadata": {},
   "outputs": [],
   "source": [
    "# write to txt files\n",
    "lin_file = open('test_data_linear.txt', 'w+')\n",
    "quad_file = open('test_data_quadratic.txt', 'w+')\n",
    "\n",
    "for i, depth in enumerate(depths):\n",
    "    lin_file.write(f'{lin_temps[i]}\\t{depth}\\n')\n",
    "    quad_file.write(f'{quad_temps[i]}\\t{depth}\\n')\n",
    "\n",
    "lin_file.close()\n",
    "quad_file.close()"
   ]
  }
 ],
 "metadata": {
  "kernelspec": {
   "display_name": "Python 3",
   "language": "python",
   "name": "python3"
  },
  "language_info": {
   "codemirror_mode": {
    "name": "ipython",
    "version": 3
   },
   "file_extension": ".py",
   "mimetype": "text/x-python",
   "name": "python",
   "nbconvert_exporter": "python",
   "pygments_lexer": "ipython3",
   "version": "3.9.4"
  }
 },
 "nbformat": 4,
 "nbformat_minor": 4
}
